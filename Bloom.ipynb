{
 "cells": [
  {
   "cell_type": "code",
   "execution_count": 1,
   "id": "6cef95ac-1154-44a4-b551-f3c85c2adcaa",
   "metadata": {},
   "outputs": [],
   "source": [
    "import transformers\n",
    "from transformers import BloomForCausalLM\n",
    "from transformers import BloomTokenizerFast\n",
    "from transformers import set_seed\n",
    "import torch"
   ]
  },
  {
   "cell_type": "code",
   "execution_count": 2,
   "id": "706369e9-6fc8-4edc-9637-af2ca82a00cb",
   "metadata": {},
   "outputs": [],
   "source": [
    "bloom_model = \"bloom-560m\"\n",
    "tokenizer = BloomTokenizerFast.from_pretrained(bloom_model)\n",
    "model = BloomForCausalLM.from_pretrained(bloom_model)\n",
    "set_seed(424242)"
   ]
  },
  {
   "cell_type": "code",
   "execution_count": 21,
   "id": "fd6cf9fa-7161-4596-b676-5997ca4dcc66",
   "metadata": {},
   "outputs": [],
   "source": [
    "blogpost_title = \"Servant Leadership\"\n",
    "prompt = f'This is a blog post on {blogpost_title} \\n\\n{blogpost_title} '\n",
    "prompt = \"\"\"The wonderful nothingness. It is nowhere, yet everywhere. It scares you and calms you at the same time.\n",
    "\"\"\"\n",
    "inputs = tokenizer(prompt, return_tensors=\"pt\")\n",
    "result_length = 1000"
   ]
  },
  {
   "cell_type": "code",
   "execution_count": 23,
   "id": "ebb711c9-fc7d-43e1-89aa-86ba4e99fc63",
   "metadata": {},
   "outputs": [
    {
     "name": "stdout",
     "output_type": "stream",
     "text": [
      "The wonderful nothingness. It is nowhere, yet everywhere. It scares you and calms you at the same time.\n",
      "I am not sure if I can say that this book was a good read for me because it didnt really make any sense to me:\n",
      "It’s been quite an interesting week in terms of reading! I’ve had some great reads but most recently have fallen behind on my list so I’m looking forward with interest!\n",
      "This one has definitely made up its mind as well…it seems like it’s going down pretty fast (and I’ll be honest though). The author does seem very smart about her characters’ motivations – she doesn’t let them get too far into their own personalities or even try anything new until they’re ready enough. (And that’s just what makes these books tick!)\n",
      "Sounds fun!! And yes there are many things we love here :) But then again how do people know who will come along? 😉</s>\n"
     ]
    }
   ],
   "source": [
    "# 1littlecoder\n",
    "sample = model.generate(inputs[\"input_ids\"],max_length=result_length,top_k=1,temperature=0.9,repetition_penalty=2.0)\n",
    "print(tokenizer.decode(sample[0]))"
   ]
  },
  {
   "cell_type": "code",
   "execution_count": 22,
   "id": "bf3b9bd7-a161-4ccb-9268-8d58aed2e869",
   "metadata": {},
   "outputs": [
    {
     "name": "stdout",
     "output_type": "stream",
     "text": [
      "The wonderful nothingness. It is nowhere, yet everywhere. It scares you and calms you at the same time.\n",
      "I am not sure if I can say that I am a writer. I am not sure if I can say that I am a writer. I am not sure if I can say that I am a writer. I am not sure if I can say that I am a writer. I am not sure if I can say that I am a writer. I am not sure if I can say that I am a writer. I am not sure if I can say that I am a writer. I am not sure if I can say that I am a writer. I am not sure if I can say that I am a writer. I am not sure if I can say that I am a writer. I am not sure if I can say that I am a writer. I am not sure if I can say that I am a writer. I am not sure if I can say that I am a writer. I am not sure if I can say that I am a writer. I am not sure if I can say that I am a writer. I am not sure if I can say that I am a writer. I am not sure if I can say that I am a writer. I am not sure if I can say that I am a writer. I am not sure if I can say that I am a writer. I am not sure if I can say that I am a writer. I am not sure if I can say that I am a writer. I am not sure if I can say that I am a writer. I am not sure if I can say that I am a writer. I am not sure if I can say that I am a writer. I am not sure if I can say that I am a writer. I am not sure if I can say that I am a writer. I am not sure if I can say that I am a writer. I am not sure if I can say that I am a writer. I am not sure if I can say that I am a writer. I am not sure if I can say that I am a writer. I am not sure if I can say that I am a writer. I am not sure if I can say that I am a writer. I am not sure if I can say that I am a writer. I am not sure if I can say that I am a writer. I am not sure if I can say that I am a writer. I am not sure if I can say that I am a writer. I am not sure if I can say that I am a writer. I am not sure if I can say that I am a writer. I am not sure if I can say that I am a writer. I am not sure if I can say that I am a writer. I am not sure if I can say that I am a writer. I am not sure if I can say that I am a writer. I am not sure if I can say that I am a writer. I am not sure if I can say that I am a writer. I am not sure if I can say that I am a writer. I am not sure if I can say that I am a writer. I am not sure if I can say that I am a writer. I am not sure if I can say that I am a writer. I am not sure if I can say that I am a writer. I am not sure if I can say that I am a writer. I am not sure if I can say that I am a writer. I am not sure if I can say that I am a writer. I am not sure if I can say that I am a writer. I am not sure if I can say that I am a writer. I am not sure if I can say that I am a writer. I am not sure if I can say that I am a writer. I am not sure if I can say that I am a writer. I am not sure if I can say that I am a writer. I am not sure if I can say that I am a writer. I am not sure if I can say that I am a writer. I am not sure if I can say that I am a writer. I am not sure if I can say that I am a writer. I am not sure if I can say that I am a writer. I am not sure if I can say that I am a writer. I am not sure if I can say that I am a writer. I am not sure if I can say that I am a writer. I am not sure if I can say that I am a writer. I am not sure if I can say that I am a writer. I am not sure if I can say that I am a writer. I am not sure if I can say that\n"
     ]
    }
   ],
   "source": [
    "# greedy\n",
    "sample = model.generate(inputs[\"input_ids\"],max_length=result_length,repition_penalty=2.0)\n",
    "print(tokenizer.decode(sample[0]))"
   ]
  },
  {
   "cell_type": "code",
   "execution_count": 25,
   "id": "2d31e9b6-5adc-4e41-b507-75ace959966a",
   "metadata": {},
   "outputs": [
    {
     "name": "stdout",
     "output_type": "stream",
     "text": [
      "The wonderful nothingness. It is nowhere, yet everywhere. It scares you and calms you at the same time.\n",
      "I am not sure if this is the best way to describe it, but it is. I have been thinking about it for a while now, and it has become a recurring theme in my mind.</s>\n"
     ]
    }
   ],
   "source": [
    "# beam search\n",
    "sample = model.generate(inputs[\"input_ids\"],max_length=result_length,num_beams=2,no_repeat_ngram_size=2,early_stopping=True)\n",
    "print(tokenizer.decode(sample[0]))"
   ]
  },
  {
   "cell_type": "code",
   "execution_count": 26,
   "id": "cbdf0fec-1df7-40a3-b52f-f97754972719",
   "metadata": {},
   "outputs": [
    {
     "name": "stdout",
     "output_type": "stream",
     "text": [
      "The wonderful nothingness. It is nowhere, yet everywhere. It scares you and calms you at the same time.\n",
      "There are three sides to this. The first is the side of the heart that is always alive, even when it feels dead. It feels just what you want it to feel. What your emotions need to be. In a way, your true self is somewhere within your heart that is always the one who wants to be.\n",
      "The second is the side of the heart that is the one who can turn back and look inside the mirror to see the mirrored reality that you have within your heart. It can take a long time for you to realize that you are not the same person you were from birth to death. It takes a long time for you to realize that you truly are the same person as your birth mother.\n",
      "The third is the side of the heart that is the one who can recognize that there are ways in which you are not the same as you were before you were born. You still have a very personal identity that has changed for the better as a result of having become you. Your life does not need to be perfect or all the way there is a chance it could be. It is just the reality that is happening right now.\n",
      "So, I hope that these words can help you get started on changing your life. You are the one who deserves it. You deserve to feel and be the best version of yourself.\n",
      "I have a friend who has a very deep emotional problem. He is very sensitive, and has a very strong sense of humor. He sometimes has the thought to write about his experience of depression or anxiety. I feel sorry for him. He has been depressed for so long and is experiencing severe depression, with no cure, for the past 12 years. He has been told to leave the depression by someone. He has found someone to talk to. He has also been told that he is not good enough for everyone else and needs a lot of help. He is not alone. He has had friends and loved ones in the past who have had the same experience, and who have had the same result. I have also heard a lot of people say that they will do anything to help him. His friends in the community have told him that they will help him if he goes through this. They have told him that they will go to the local hospital to help him if he goes through this. They have told him that they will help him if he goes to the doctor. But they will not tell him that they are ready to go to any kind of help. They are just saying that there is someone else out there who can do anything. They have told him that they will call his brother and sister and say that he is a man, that they know what he is talking about. But they have not told him that he is a person. They are just telling him that he is just a person. I think that is very much a mistake. It should not be. I feel very sorry for him. I also want to express my deep sorrow and sadness that he has found someone to talk to. I want to help him understand the pain he is in and that it is real and should not be allowed to happen. He may have had a lot of courage when he first started thinking about it, but it has taken him so much time to see that he is just one person.\n",
      "This post is the final chapter in a series of articles about the best ways to help people cope with depression. I hope you will find these articles helpful.\n",
      "If you’re an artist and you want to have more exposure, we’ve got you covered. For the next few weeks, you’ll be getting a chance to submit your work for the ‘Art Prize Competition’. Each award will be judged by a panel of three artists, who will decide the winners.\n",
      "If you’re a musician and you have a song in mind, you’ll be getting a chance to submit your song for the ‘Art Prize Competition’. The prize will be judged by a panel of three artists, who will decide the winners.\n",
      "This competition is open to all new music producers or artists, not just those who have previously done music before or are now thinking of doing so, or anyone who has previously performed a song in concert. The competition will be judged by the three selected judges on a random basis.\n",
      "This prize is intended to give new musical talent a chance to shine. It is not meant to be a prize for a particular artist.\n",
      "If you think you’ve got an idea that you’d like to put to the world, then please contact us to tell us about it, or just give us a call today on PI:KEY.\n",
      "The first part of our collection of recipes was designed for the very young, when there is so much variety and colouring available in our house.\n",
      "My favourite colouring book has to be Red Roses, you can find them at The\n"
     ]
    }
   ],
   "source": [
    "# sampling, top-k + top-p\n",
    "sample = model.generate(inputs[\"input_ids\"],max_length=result_length,do_sample=True,top_k=50,top_p=0.9)\n",
    "print(tokenizer.decode(sample[0]))"
   ]
  },
  {
   "cell_type": "code",
   "execution_count": 27,
   "id": "193719b1-0788-42a6-8b94-400c9f540576",
   "metadata": {},
   "outputs": [
    {
     "name": "stderr",
     "output_type": "stream",
     "text": [
      "/home/karim/Projects/bloom-project/.venv/lib/python3.10/site-packages/transformers/generation_beam_search.py:197: UserWarning: Passing `max_length` to BeamSearchScorer is deprecated and has no effect. `max_length` should be passed directly to `beam_search(...)`, `beam_sample(...)`, or `group_beam_search(...)`.\n",
      "  warnings.warn(\n"
     ]
    },
    {
     "name": "stdout",
     "output_type": "stream",
     "text": [
      "The wonderful nothingness. It is nowhere, yet everywhere. It scares you and calms you at the same time.\n",
      "I am not sure if I can say that this is a book for everyone. I have read it many times and I have found it to be a very good book. The author has written a great story and I think that he has done a great job of it. He has made me feel like I was in his world and I felt like I was in his world. I love how he has used the characters to make me feel like I was in his world. I loved how he has used the characters to make me feel like I was in his world. I loved how he has used the characters to make me feel like I was in his world. I loved how he has used the characters to make me feel like I was in his world. I loved how he has used the characters to make me feel like I was in his world. I loved how he has used the characters to make me feel like I was in his world. I loved how he has used the characters to make me feel like I was in his world. I loved how he has used the characters to make me feel like I was in his world. I loved how he has used the characters to make me feel like I was in his world. I loved how he has used the characters to make me feel like I was in his world. I loved how he has used the characters to make me feel like I was in his world. I loved how he has used the characters to make me feel like I was in his world. I loved how he has used the characters to make me feel like I was in his world. I loved how he has used the characters to make me feel like I was in his world. I loved how he has used the characters to make me feel like I was in his world. I loved how he has used the characters to make me feel like I was in his world. I loved how he has used the characters to make me feel like I was in his world. I loved how he has used the characters to make me feel like I was in his world. I loved how he has used the characters to make me feel like I was in his world. I loved how he has used the characters to make me feel like I was in his world. I loved how he has used the characters to make me feel like I was in his world. I loved how he has used the characters to make me feel like I was in his world. I loved how he has used the characters to make me feel like I was in his world. I loved how he has used the characters to make me feel like I was in his world. I loved how he has used the characters to make me feel like I was in his world. I loved how he has used the characters to make me feel like I was in his world. I loved how he has used the characters to make me feel like I was in his world. I loved how he has used the characters to make me feel like I was in his world. I loved how he has used the characters to make me feel like I was in his world. I loved how he has used the characters to make me feel like I was in his world. I loved how he has used the characters to make me feel like I was in his world. I loved how he has used the characters to make me feel like I was in his world. I loved how he has used the characters to make me feel like I was in his world. I loved how he has used the characters to make me feel like I was in his world. I loved how he has used the characters to make me feel like I was in his world. I loved how he has used the characters to make me feel like I was in his world. I loved how he has used the characters to make me feel like I was in his world. I loved how he has used the characters to make me feel like I was in his world. I loved how he has used the characters to make me feel like I was in his world. I loved how he has used the characters to make me feel like I was in his world. I loved how he has used the characters to make me feel like I was in his world. I loved how he has used the characters to make me feel like I was in his world. I loved how he has used the characters to make me feel like I was in his world. I loved how he has used the characters to make me feel like I was in his world. I loved how he has used the characters to make me feel like I was in his world. I loved how he has used the characters to make me feel like I was in his world. I loved how he has used the characters to make me feel like I was in his world. I loved how he has used the\n"
     ]
    }
   ],
   "source": [
    "# 1littlecoder enhanced\n",
    "sample = model.generate(inputs[\"input_ids\"],max_length=result_length,num_beams=2,num_beam_groups=2,top_k=1,temperature=0.9,repetition_penalty=2.0,diversity_penalty=0.9)\n",
    "print(tokenizer.decode(sample[0]))"
   ]
  }
 ],
 "metadata": {
  "kernelspec": {
   "display_name": "Python 3 (ipykernel)",
   "language": "python",
   "name": "python3"
  },
  "language_info": {
   "codemirror_mode": {
    "name": "ipython",
    "version": 3
   },
   "file_extension": ".py",
   "mimetype": "text/x-python",
   "name": "python",
   "nbconvert_exporter": "python",
   "pygments_lexer": "ipython3",
   "version": "3.10.4"
  }
 },
 "nbformat": 4,
 "nbformat_minor": 5
}
